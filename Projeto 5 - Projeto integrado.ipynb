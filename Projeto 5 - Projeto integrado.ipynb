{
 "cells": [
  {
   "cell_type": "markdown",
   "metadata": {},
   "source": [
    "## Introdução\n",
    "O projeto será realizado para a loja online Ice, especializada em venda de videogames no mundo todo, o dataframe contém avaliações de usuários e especialistas, gêneros, plataformas e dados históricos sobre vendas de jogos que estão disponíveis e em aberto. O projeto verificará padrões que determinam se um jogo tem sucesso ou não. Isso permitirá que identifique potenciais grandes vencedores e planeje campanhas publicitárias."
   ]
  },
  {
   "cell_type": "markdown",
   "metadata": {},
   "source": [
    "## Etapa 1. Visão geral dos dados"
   ]
  },
  {
   "cell_type": "markdown",
   "metadata": {},
   "source": [
    "Serão carregados as bibliotecas que acredito que serão úteis no desempenhar das análises, importado o dataframe, analisado as informações contidas no dataframe, correções necessárias para melhor avaliação, serão analisadas se há valores ausentes e após análise as tomadas de decisões serão explicadas na conclusão intermediária."
   ]
  },
  {
   "cell_type": "code",
   "execution_count": 1,
   "metadata": {},
   "outputs": [],
   "source": [
    "# Carregando todas as bibliotecas\n",
    "import pandas as pd\n",
    "import matplotlib.pyplot as plt\n",
    "import numpy as np\n",
    "import datetime as dt"
   ]
  },
  {
   "cell_type": "code",
   "execution_count": 2,
   "metadata": {},
   "outputs": [],
   "source": [
    "df = pd.read_csv('/datasets/games.csv')"
   ]
  },
  {
   "cell_type": "code",
   "execution_count": 3,
   "metadata": {},
   "outputs": [
    {
     "name": "stdout",
     "output_type": "stream",
     "text": [
      "<class 'pandas.core.frame.DataFrame'>\n",
      "RangeIndex: 16715 entries, 0 to 16714\n",
      "Data columns (total 11 columns):\n",
      " #   Column           Non-Null Count  Dtype  \n",
      "---  ------           --------------  -----  \n",
      " 0   Name             16713 non-null  object \n",
      " 1   Platform         16715 non-null  object \n",
      " 2   Year_of_Release  16446 non-null  float64\n",
      " 3   Genre            16713 non-null  object \n",
      " 4   NA_sales         16715 non-null  float64\n",
      " 5   EU_sales         16715 non-null  float64\n",
      " 6   JP_sales         16715 non-null  float64\n",
      " 7   Other_sales      16715 non-null  float64\n",
      " 8   Critic_Score     8137 non-null   float64\n",
      " 9   User_Score       10014 non-null  object \n",
      " 10  Rating           9949 non-null   object \n",
      "dtypes: float64(6), object(5)\n",
      "memory usage: 1.4+ MB\n"
     ]
    }
   ],
   "source": [
    "df.info()"
   ]
  },
  {
   "cell_type": "code",
   "execution_count": 4,
   "metadata": {},
   "outputs": [
    {
     "data": {
      "text/html": [
       "<div>\n",
       "<style scoped>\n",
       "    .dataframe tbody tr th:only-of-type {\n",
       "        vertical-align: middle;\n",
       "    }\n",
       "\n",
       "    .dataframe tbody tr th {\n",
       "        vertical-align: top;\n",
       "    }\n",
       "\n",
       "    .dataframe thead th {\n",
       "        text-align: right;\n",
       "    }\n",
       "</style>\n",
       "<table border=\"1\" class=\"dataframe\">\n",
       "  <thead>\n",
       "    <tr style=\"text-align: right;\">\n",
       "      <th></th>\n",
       "      <th>Name</th>\n",
       "      <th>Platform</th>\n",
       "      <th>Year_of_Release</th>\n",
       "      <th>Genre</th>\n",
       "      <th>NA_sales</th>\n",
       "      <th>EU_sales</th>\n",
       "      <th>JP_sales</th>\n",
       "      <th>Other_sales</th>\n",
       "      <th>Critic_Score</th>\n",
       "      <th>User_Score</th>\n",
       "      <th>Rating</th>\n",
       "    </tr>\n",
       "  </thead>\n",
       "  <tbody>\n",
       "    <tr>\n",
       "      <th>0</th>\n",
       "      <td>Wii Sports</td>\n",
       "      <td>Wii</td>\n",
       "      <td>2006.0</td>\n",
       "      <td>Sports</td>\n",
       "      <td>41.36</td>\n",
       "      <td>28.96</td>\n",
       "      <td>3.77</td>\n",
       "      <td>8.45</td>\n",
       "      <td>76.0</td>\n",
       "      <td>8</td>\n",
       "      <td>E</td>\n",
       "    </tr>\n",
       "    <tr>\n",
       "      <th>1</th>\n",
       "      <td>Super Mario Bros.</td>\n",
       "      <td>NES</td>\n",
       "      <td>1985.0</td>\n",
       "      <td>Platform</td>\n",
       "      <td>29.08</td>\n",
       "      <td>3.58</td>\n",
       "      <td>6.81</td>\n",
       "      <td>0.77</td>\n",
       "      <td>NaN</td>\n",
       "      <td>NaN</td>\n",
       "      <td>NaN</td>\n",
       "    </tr>\n",
       "    <tr>\n",
       "      <th>2</th>\n",
       "      <td>Mario Kart Wii</td>\n",
       "      <td>Wii</td>\n",
       "      <td>2008.0</td>\n",
       "      <td>Racing</td>\n",
       "      <td>15.68</td>\n",
       "      <td>12.76</td>\n",
       "      <td>3.79</td>\n",
       "      <td>3.29</td>\n",
       "      <td>82.0</td>\n",
       "      <td>8.3</td>\n",
       "      <td>E</td>\n",
       "    </tr>\n",
       "    <tr>\n",
       "      <th>3</th>\n",
       "      <td>Wii Sports Resort</td>\n",
       "      <td>Wii</td>\n",
       "      <td>2009.0</td>\n",
       "      <td>Sports</td>\n",
       "      <td>15.61</td>\n",
       "      <td>10.93</td>\n",
       "      <td>3.28</td>\n",
       "      <td>2.95</td>\n",
       "      <td>80.0</td>\n",
       "      <td>8</td>\n",
       "      <td>E</td>\n",
       "    </tr>\n",
       "    <tr>\n",
       "      <th>4</th>\n",
       "      <td>Pokemon Red/Pokemon Blue</td>\n",
       "      <td>GB</td>\n",
       "      <td>1996.0</td>\n",
       "      <td>Role-Playing</td>\n",
       "      <td>11.27</td>\n",
       "      <td>8.89</td>\n",
       "      <td>10.22</td>\n",
       "      <td>1.00</td>\n",
       "      <td>NaN</td>\n",
       "      <td>NaN</td>\n",
       "      <td>NaN</td>\n",
       "    </tr>\n",
       "  </tbody>\n",
       "</table>\n",
       "</div>"
      ],
      "text/plain": [
       "                       Name Platform  Year_of_Release         Genre  NA_sales  \\\n",
       "0                Wii Sports      Wii           2006.0        Sports     41.36   \n",
       "1         Super Mario Bros.      NES           1985.0      Platform     29.08   \n",
       "2            Mario Kart Wii      Wii           2008.0        Racing     15.68   \n",
       "3         Wii Sports Resort      Wii           2009.0        Sports     15.61   \n",
       "4  Pokemon Red/Pokemon Blue       GB           1996.0  Role-Playing     11.27   \n",
       "\n",
       "   EU_sales  JP_sales  Other_sales  Critic_Score User_Score Rating  \n",
       "0     28.96      3.77         8.45          76.0          8      E  \n",
       "1      3.58      6.81         0.77           NaN        NaN    NaN  \n",
       "2     12.76      3.79         3.29          82.0        8.3      E  \n",
       "3     10.93      3.28         2.95          80.0          8      E  \n",
       "4      8.89     10.22         1.00           NaN        NaN    NaN  "
      ]
     },
     "execution_count": 4,
     "metadata": {},
     "output_type": "execute_result"
    }
   ],
   "source": [
    "df.head()"
   ]
  },
  {
   "cell_type": "code",
   "execution_count": 5,
   "metadata": {},
   "outputs": [],
   "source": [
    "#Colocando as letras das colunas em minúsculo e o ano em datetime.\n",
    "df.columns = df.columns.str.lower()"
   ]
  },
  {
   "cell_type": "code",
   "execution_count": 6,
   "metadata": {},
   "outputs": [],
   "source": [
    "df['year_of_release'] = pd.to_datetime(df['year_of_release'], format='%Y')"
   ]
  },
  {
   "cell_type": "code",
   "execution_count": 7,
   "metadata": {},
   "outputs": [],
   "source": [
    "df['year_of_release'] = df['year_of_release'].dt.strftime('%Y')"
   ]
  },
  {
   "cell_type": "markdown",
   "metadata": {},
   "source": [
    "### Avaliando os valores ausentes e preenchimento"
   ]
  },
  {
   "cell_type": "code",
   "execution_count": 8,
   "metadata": {},
   "outputs": [
    {
     "data": {
      "text/plain": [
       "name                  2\n",
       "platform              0\n",
       "year_of_release     269\n",
       "genre                 2\n",
       "na_sales              0\n",
       "eu_sales              0\n",
       "jp_sales              0\n",
       "other_sales           0\n",
       "critic_score       8578\n",
       "user_score         6701\n",
       "rating             6766\n",
       "dtype: int64"
      ]
     },
     "execution_count": 8,
     "metadata": {},
     "output_type": "execute_result"
    }
   ],
   "source": [
    "#Avaliando a quantidade de valores ausentes por coluna\n",
    "df.isnull().sum()"
   ]
  },
  {
   "cell_type": "code",
   "execution_count": 9,
   "metadata": {},
   "outputs": [
    {
     "data": {
      "text/html": [
       "<div>\n",
       "<style scoped>\n",
       "    .dataframe tbody tr th:only-of-type {\n",
       "        vertical-align: middle;\n",
       "    }\n",
       "\n",
       "    .dataframe tbody tr th {\n",
       "        vertical-align: top;\n",
       "    }\n",
       "\n",
       "    .dataframe thead th {\n",
       "        text-align: right;\n",
       "    }\n",
       "</style>\n",
       "<table border=\"1\" class=\"dataframe\">\n",
       "  <thead>\n",
       "    <tr style=\"text-align: right;\">\n",
       "      <th></th>\n",
       "      <th>name</th>\n",
       "    </tr>\n",
       "  </thead>\n",
       "  <tbody>\n",
       "    <tr>\n",
       "      <th>183</th>\n",
       "      <td>Madden NFL 2004</td>\n",
       "    </tr>\n",
       "    <tr>\n",
       "      <th>377</th>\n",
       "      <td>FIFA Soccer 2004</td>\n",
       "    </tr>\n",
       "    <tr>\n",
       "      <th>456</th>\n",
       "      <td>LEGO Batman: The Videogame</td>\n",
       "    </tr>\n",
       "    <tr>\n",
       "      <th>475</th>\n",
       "      <td>wwe Smackdown vs. Raw 2006</td>\n",
       "    </tr>\n",
       "    <tr>\n",
       "      <th>609</th>\n",
       "      <td>Space Invaders</td>\n",
       "    </tr>\n",
       "    <tr>\n",
       "      <th>...</th>\n",
       "      <td>...</td>\n",
       "    </tr>\n",
       "    <tr>\n",
       "      <th>16373</th>\n",
       "      <td>PDC World Championship Darts 2008</td>\n",
       "    </tr>\n",
       "    <tr>\n",
       "      <th>16405</th>\n",
       "      <td>Freaky Flyers</td>\n",
       "    </tr>\n",
       "    <tr>\n",
       "      <th>16448</th>\n",
       "      <td>Inversion</td>\n",
       "    </tr>\n",
       "    <tr>\n",
       "      <th>16458</th>\n",
       "      <td>Hakuouki: Shinsengumi Kitan</td>\n",
       "    </tr>\n",
       "    <tr>\n",
       "      <th>16522</th>\n",
       "      <td>Virtua Quest</td>\n",
       "    </tr>\n",
       "  </tbody>\n",
       "</table>\n",
       "<p>269 rows × 1 columns</p>\n",
       "</div>"
      ],
      "text/plain": [
       "                                    name\n",
       "183                      Madden NFL 2004\n",
       "377                     FIFA Soccer 2004\n",
       "456           LEGO Batman: The Videogame\n",
       "475           wwe Smackdown vs. Raw 2006\n",
       "609                       Space Invaders\n",
       "...                                  ...\n",
       "16373  PDC World Championship Darts 2008\n",
       "16405                      Freaky Flyers\n",
       "16448                          Inversion\n",
       "16458        Hakuouki: Shinsengumi Kitan\n",
       "16522                       Virtua Quest\n",
       "\n",
       "[269 rows x 1 columns]"
      ]
     },
     "execution_count": 9,
     "metadata": {},
     "output_type": "execute_result"
    }
   ],
   "source": [
    "df.loc[df['year_of_release'].isnull(), ['name']]"
   ]
  },
  {
   "cell_type": "code",
   "execution_count": 10,
   "metadata": {},
   "outputs": [],
   "source": [
    "#Os valores ausentes nas colunas serão substituídos com base nos nomes que contenham o preenchimento tomando como base a coluna `name`\n",
    "df['year_of_release'] = df.groupby('name')['year_of_release'].apply(lambda x: x.fillna(method='ffill').fillna(method='bfill'))"
   ]
  },
  {
   "cell_type": "code",
   "execution_count": 11,
   "metadata": {},
   "outputs": [],
   "source": [
    "df['critic_score'] = df.groupby('name')['critic_score'].apply(lambda x: x.fillna(method='ffill').fillna(method='bfill'))"
   ]
  },
  {
   "cell_type": "code",
   "execution_count": 12,
   "metadata": {},
   "outputs": [],
   "source": [
    "df['user_score'] = df.groupby('name')['user_score'].apply(lambda x: x.fillna(method='ffill').fillna(method='bfill'))"
   ]
  },
  {
   "cell_type": "code",
   "execution_count": 13,
   "metadata": {},
   "outputs": [],
   "source": [
    "df['rating'] = df.groupby('name')['rating'].apply(lambda x: x.fillna(method='ffill').fillna(method='bfill'))"
   ]
  },
  {
   "cell_type": "code",
   "execution_count": 14,
   "metadata": {},
   "outputs": [],
   "source": [
    "df['genre'] = df.groupby('name')['genre'].apply(lambda x: x.fillna(method='ffill').fillna(method='bfill'))"
   ]
  },
  {
   "cell_type": "markdown",
   "metadata": {},
   "source": [
    "### Justificativa do preenchimento dos valores vazios\n",
    "\n",
    "Entendo que podemos ter valores que se repetem na coluna `name` que nos auxilie a preencher as colunas com valores vazios, nesse sentido foi utilizado o 'ffil' e 'bfill' que auxilia a preencher furos na série reindexada."
   ]
  },
  {
   "cell_type": "code",
   "execution_count": 15,
   "metadata": {},
   "outputs": [
    {
     "data": {
      "text/plain": [
       "name                  2\n",
       "platform              0\n",
       "year_of_release     148\n",
       "genre                 2\n",
       "na_sales              0\n",
       "eu_sales              0\n",
       "jp_sales              0\n",
       "other_sales           0\n",
       "critic_score       7617\n",
       "user_score         6272\n",
       "rating             6329\n",
       "dtype: int64"
      ]
     },
     "execution_count": 15,
     "metadata": {},
     "output_type": "execute_result"
    }
   ],
   "source": [
    "# Avaliação dos valores ausentes após o preenchimento \n",
    "df.isna().sum()"
   ]
  },
  {
   "cell_type": "code",
   "execution_count": 16,
   "metadata": {},
   "outputs": [],
   "source": [
    "# Os valores ausentes nas coluna critic_score e user_score terão os valores substituídos por 0\n",
    "df['critic_score'].fillna(0.0, inplace=True)"
   ]
  },
  {
   "cell_type": "code",
   "execution_count": 17,
   "metadata": {},
   "outputs": [],
   "source": [
    "df['user_score'].fillna(0.0, inplace=True)"
   ]
  },
  {
   "cell_type": "code",
   "execution_count": 18,
   "metadata": {},
   "outputs": [
    {
     "data": {
      "text/plain": [
       "E       4153\n",
       "T       3090\n",
       "M       1653\n",
       "E10+    1472\n",
       "EC        10\n",
       "K-A        4\n",
       "RP         3\n",
       "AO         1\n",
       "Name: rating, dtype: int64"
      ]
     },
     "execution_count": 18,
     "metadata": {},
     "output_type": "execute_result"
    }
   ],
   "source": [
    "df['rating'].value_counts()"
   ]
  },
  {
   "cell_type": "code",
   "execution_count": 19,
   "metadata": {},
   "outputs": [],
   "source": [
    "# Os valores ausentes da coluna rating serão subistituídos pela moda da própria coluna.\n",
    "mode_rating = df['rating'].mode().values[0]\n",
    "df['rating'].fillna(mode_rating, inplace=True)"
   ]
  },
  {
   "cell_type": "code",
   "execution_count": 20,
   "metadata": {},
   "outputs": [
    {
     "data": {
      "text/plain": [
       "name                 2\n",
       "platform             0\n",
       "year_of_release    148\n",
       "genre                2\n",
       "na_sales             0\n",
       "eu_sales             0\n",
       "jp_sales             0\n",
       "other_sales          0\n",
       "critic_score         0\n",
       "user_score           0\n",
       "rating               0\n",
       "dtype: int64"
      ]
     },
     "execution_count": 20,
     "metadata": {},
     "output_type": "execute_result"
    }
   ],
   "source": [
    "df.isna().sum()"
   ]
  },
  {
   "cell_type": "code",
   "execution_count": 21,
   "metadata": {},
   "outputs": [
    {
     "data": {
      "text/plain": [
       "name               0.011965\n",
       "year_of_release    0.885432\n",
       "genre              0.011965\n",
       "dtype: float64"
      ]
     },
     "execution_count": 21,
     "metadata": {},
     "output_type": "execute_result"
    }
   ],
   "source": [
    "# Calculando a porcentagem dos valores ausentes\n",
    "percent_missing = df[['name', 'year_of_release', 'genre']].isna().mean() * 100\n",
    "percent_missing"
   ]
  },
  {
   "cell_type": "code",
   "execution_count": 22,
   "metadata": {},
   "outputs": [],
   "source": [
    "# Os valores ausentes que restaram não terão uma representatidade se excluído\n",
    "df = df.dropna(subset=['name', 'year_of_release', 'genre']).copy()"
   ]
  },
  {
   "cell_type": "markdown",
   "metadata": {},
   "source": [
    "#### Conclusão intermediária\n",
    "\n",
    "Foi notado que existiam muitos valores ausentes que se houvesse uma exclusão seria prejudicial para análise, como decisão foi avaliado que a coluna name possuia nomes específicdos que poderiam se repetir ao longo da coluna e um desses valores poderiam auxiliar no preenchimento das demais colunas.\n",
    "\n",
    "Após realização desse preenchimento, entendi que os valores ausentes nas colunas `user_score` e `critic_score` eram valores 0.0 que haviam sido deixados de preencher pelos clientes, por se tratar de valores quantitativos. Já na coluna `rating` por ser uma coluna com informações categóricas a substituição foi feita com o valor que mais se repete na coluna. Quanto as colunas `name`, `year_of_release` e `genre`, a opção foi de exclusão das linhas pois não achei que a ausência delas impactariam as aáçises futuras."
   ]
  },
  {
   "cell_type": "markdown",
   "metadata": {},
   "source": [
    "### Cálculo dos totais de vendas"
   ]
  },
  {
   "cell_type": "code",
   "execution_count": 23,
   "metadata": {},
   "outputs": [],
   "source": [
    "#Calculo de total de vendas (a soma de vendas em todas as regiões) para cada jogo.\n",
    "df[\"total_sales\"] = df.loc[:, \"na_sales\":\"other_sales\"].sum(axis=1)"
   ]
  },
  {
   "cell_type": "code",
   "execution_count": 24,
   "metadata": {
    "scrolled": true
   },
   "outputs": [
    {
     "data": {
      "text/html": [
       "<div>\n",
       "<style scoped>\n",
       "    .dataframe tbody tr th:only-of-type {\n",
       "        vertical-align: middle;\n",
       "    }\n",
       "\n",
       "    .dataframe tbody tr th {\n",
       "        vertical-align: top;\n",
       "    }\n",
       "\n",
       "    .dataframe thead th {\n",
       "        text-align: right;\n",
       "    }\n",
       "</style>\n",
       "<table border=\"1\" class=\"dataframe\">\n",
       "  <thead>\n",
       "    <tr style=\"text-align: right;\">\n",
       "      <th></th>\n",
       "      <th>name</th>\n",
       "    </tr>\n",
       "    <tr>\n",
       "      <th>year_of_release</th>\n",
       "      <th></th>\n",
       "    </tr>\n",
       "  </thead>\n",
       "  <tbody>\n",
       "    <tr>\n",
       "      <th>1980</th>\n",
       "      <td>9</td>\n",
       "    </tr>\n",
       "    <tr>\n",
       "      <th>1981</th>\n",
       "      <td>46</td>\n",
       "    </tr>\n",
       "    <tr>\n",
       "      <th>1982</th>\n",
       "      <td>36</td>\n",
       "    </tr>\n",
       "    <tr>\n",
       "      <th>1983</th>\n",
       "      <td>17</td>\n",
       "    </tr>\n",
       "    <tr>\n",
       "      <th>1984</th>\n",
       "      <td>14</td>\n",
       "    </tr>\n",
       "    <tr>\n",
       "      <th>1985</th>\n",
       "      <td>14</td>\n",
       "    </tr>\n",
       "    <tr>\n",
       "      <th>1986</th>\n",
       "      <td>21</td>\n",
       "    </tr>\n",
       "    <tr>\n",
       "      <th>1987</th>\n",
       "      <td>16</td>\n",
       "    </tr>\n",
       "    <tr>\n",
       "      <th>1988</th>\n",
       "      <td>15</td>\n",
       "    </tr>\n",
       "    <tr>\n",
       "      <th>1989</th>\n",
       "      <td>17</td>\n",
       "    </tr>\n",
       "    <tr>\n",
       "      <th>1990</th>\n",
       "      <td>16</td>\n",
       "    </tr>\n",
       "    <tr>\n",
       "      <th>1991</th>\n",
       "      <td>41</td>\n",
       "    </tr>\n",
       "    <tr>\n",
       "      <th>1992</th>\n",
       "      <td>43</td>\n",
       "    </tr>\n",
       "    <tr>\n",
       "      <th>1993</th>\n",
       "      <td>60</td>\n",
       "    </tr>\n",
       "    <tr>\n",
       "      <th>1994</th>\n",
       "      <td>122</td>\n",
       "    </tr>\n",
       "    <tr>\n",
       "      <th>1995</th>\n",
       "      <td>219</td>\n",
       "    </tr>\n",
       "    <tr>\n",
       "      <th>1996</th>\n",
       "      <td>263</td>\n",
       "    </tr>\n",
       "    <tr>\n",
       "      <th>1997</th>\n",
       "      <td>289</td>\n",
       "    </tr>\n",
       "    <tr>\n",
       "      <th>1998</th>\n",
       "      <td>379</td>\n",
       "    </tr>\n",
       "    <tr>\n",
       "      <th>1999</th>\n",
       "      <td>339</td>\n",
       "    </tr>\n",
       "    <tr>\n",
       "      <th>2000</th>\n",
       "      <td>350</td>\n",
       "    </tr>\n",
       "    <tr>\n",
       "      <th>2001</th>\n",
       "      <td>485</td>\n",
       "    </tr>\n",
       "    <tr>\n",
       "      <th>2002</th>\n",
       "      <td>845</td>\n",
       "    </tr>\n",
       "    <tr>\n",
       "      <th>2003</th>\n",
       "      <td>784</td>\n",
       "    </tr>\n",
       "    <tr>\n",
       "      <th>2004</th>\n",
       "      <td>764</td>\n",
       "    </tr>\n",
       "    <tr>\n",
       "      <th>2005</th>\n",
       "      <td>947</td>\n",
       "    </tr>\n",
       "    <tr>\n",
       "      <th>2006</th>\n",
       "      <td>1020</td>\n",
       "    </tr>\n",
       "    <tr>\n",
       "      <th>2007</th>\n",
       "      <td>1202</td>\n",
       "    </tr>\n",
       "    <tr>\n",
       "      <th>2008</th>\n",
       "      <td>1441</td>\n",
       "    </tr>\n",
       "    <tr>\n",
       "      <th>2009</th>\n",
       "      <td>1430</td>\n",
       "    </tr>\n",
       "    <tr>\n",
       "      <th>2010</th>\n",
       "      <td>1271</td>\n",
       "    </tr>\n",
       "    <tr>\n",
       "      <th>2011</th>\n",
       "      <td>1153</td>\n",
       "    </tr>\n",
       "    <tr>\n",
       "      <th>2012</th>\n",
       "      <td>662</td>\n",
       "    </tr>\n",
       "    <tr>\n",
       "      <th>2013</th>\n",
       "      <td>547</td>\n",
       "    </tr>\n",
       "    <tr>\n",
       "      <th>2014</th>\n",
       "      <td>582</td>\n",
       "    </tr>\n",
       "    <tr>\n",
       "      <th>2015</th>\n",
       "      <td>606</td>\n",
       "    </tr>\n",
       "    <tr>\n",
       "      <th>2016</th>\n",
       "      <td>502</td>\n",
       "    </tr>\n",
       "  </tbody>\n",
       "</table>\n",
       "</div>"
      ],
      "text/plain": [
       "                 name\n",
       "year_of_release      \n",
       "1980                9\n",
       "1981               46\n",
       "1982               36\n",
       "1983               17\n",
       "1984               14\n",
       "1985               14\n",
       "1986               21\n",
       "1987               16\n",
       "1988               15\n",
       "1989               17\n",
       "1990               16\n",
       "1991               41\n",
       "1992               43\n",
       "1993               60\n",
       "1994              122\n",
       "1995              219\n",
       "1996              263\n",
       "1997              289\n",
       "1998              379\n",
       "1999              339\n",
       "2000              350\n",
       "2001              485\n",
       "2002              845\n",
       "2003              784\n",
       "2004              764\n",
       "2005              947\n",
       "2006             1020\n",
       "2007             1202\n",
       "2008             1441\n",
       "2009             1430\n",
       "2010             1271\n",
       "2011             1153\n",
       "2012              662\n",
       "2013              547\n",
       "2014              582\n",
       "2015              606\n",
       "2016              502"
      ]
     },
     "execution_count": 24,
     "metadata": {},
     "output_type": "execute_result"
    }
   ],
   "source": [
    "#Criação de tabela dinâmica e gráfico da quantidade de vendas por ano. \n",
    "pd.pivot_table(df, index=\"year_of_release\", values=\"name\", aggfunc=\"count\")"
   ]
  },
  {
   "cell_type": "code",
   "execution_count": 25,
   "metadata": {},
   "outputs": [
    {
     "data": {
      "image/png": "[encoded data removed]",
      "text/plain": [
       "<Figure size 432x288 with 1 Axes>"
      ]
     },
     "metadata": {
      "needs_background": "light"
     },
     "output_type": "display_data"
    }
   ],
   "source": [
    "pivot = pd.pivot_table(df, index=\"year_of_release\", values=\"name\", aggfunc=\"count\")\n",
    "pivot.plot(kind=\"line\", legend=None)\n",
    "\n",
    "plt.xlabel(\"Ano de lançamento\")\n",
    "plt.ylabel(\"Número de jogos lançados\")\n",
    "plt.title(\"Número de jogos lançados por ano\")\n",
    "plt.show()"
   ]
  },
  {
   "cell_type": "code",
   "execution_count": 26,
   "metadata": {},
   "outputs": [],
   "source": [
    "# Seleciona as colunas desejadas\n",
    "df_sales = df[[\"platform\", \"year_of_release\", \"na_sales\", \"eu_sales\", \"jp_sales\", \"other_sales\"]]"
   ]
  },
  {
   "cell_type": "code",
   "execution_count": 27,
   "metadata": {},
   "outputs": [],
   "source": [
    "# Cria uma tabela dinâmica com as vendas por plataforma e ano\n",
    "pivot_sales = pd.pivot_table(df_sales, index=\"year_of_release\", columns=\"platform\", values=[\"na_sales\", \"eu_sales\", \"jp_sales\", \"other_sales\"], aggfunc=\"sum\")"
   ]
  },
  {
   "cell_type": "code",
   "execution_count": 28,
   "metadata": {},
   "outputs": [],
   "source": [
    "# Calcula as vendas totais por plataforma\n",
    "total_sales = pivot_sales.sum()"
   ]
  },
  {
   "cell_type": "code",
   "execution_count": 29,
   "metadata": {},
   "outputs": [],
   "source": [
    "# Seleciona as plataformas com as maiores vendas totais\n",
    "top_platforms = total_sales.nlargest(5)"
   ]
  },
  {
   "cell_type": "code",
   "execution_count": 30,
   "metadata": {},
   "outputs": [
    {
     "data": {
      "text/plain": [
       "<AxesSubplot:ylabel='Density'>"
      ]
     },
     "execution_count": 30,
     "metadata": {},
     "output_type": "execute_result"
    },
    {
     "data": {
      "image/png": "[encoded data removed]",
      "text/plain": [
       "<Figure size 432x288 with 1 Axes>"
      ]
     },
     "metadata": {
      "needs_background": "light"
     },
     "output_type": "display_data"
    }
   ],
   "source": [
    "# Cria uma distribuição com base nos dados de vendas de cada ano\n",
    "pivot_sales[top_platforms.index].plot(kind=\"density\")"
   ]
  },
  {
   "cell_type": "code",
   "execution_count": 31,
   "metadata": {},
   "outputs": [],
   "source": [
    "# Encontra as plataformas que não têm vendas\n",
    "no_sales = total_sales[total_sales == 0].index"
   ]
  },
  {
   "cell_type": "code",
   "execution_count": 32,
   "metadata": {},
   "outputs": [
    {
     "name": "stdout",
     "output_type": "stream",
     "text": [
      "Plataformas com as maiores vendas totais:\n",
      "           platform\n",
      "na_sales  X360        599.15\n",
      "          PS2         580.09\n",
      "          Wii         494.01\n",
      "          PS3         391.60\n",
      "          DS          381.38\n",
      "dtype: float64\n",
      "\n",
      "Plataformas que não têm vendas:\n",
      " MultiIndex([(   'eu_sales',  '3DO'),\n",
      "            (   'eu_sales',   'GG'),\n",
      "            (   'eu_sales',   'NG'),\n",
      "            (   'eu_sales', 'PCFX'),\n",
      "            (   'eu_sales', 'TG16'),\n",
      "            (   'eu_sales',   'WS'),\n",
      "            (   'jp_sales', '2600'),\n",
      "            (   'na_sales',  '3DO'),\n",
      "            (   'na_sales',   'GG'),\n",
      "            (   'na_sales',   'NG'),\n",
      "            (   'na_sales', 'PCFX'),\n",
      "            (   'na_sales', 'TG16'),\n",
      "            (   'na_sales',   'WS'),\n",
      "            ('other_sales',  '3DO'),\n",
      "            ('other_sales',   'GG'),\n",
      "            ('other_sales',   'NG'),\n",
      "            ('other_sales', 'PCFX'),\n",
      "            ('other_sales', 'TG16'),\n",
      "            ('other_sales',   'WS')],\n",
      "           names=[None, 'platform'])\n"
     ]
    }
   ],
   "source": [
    "# Exibe as informações sobre as plataformas com as maiores vendas e as que não têm vendas\n",
    "print(\"Plataformas com as maiores vendas totais:\\n\", top_platforms)\n",
    "print(\"\\nPlataformas que não têm vendas:\\n\", no_sales)"
   ]
  },
  {
   "cell_type": "markdown",
   "metadata": {},
   "source": [
    "### Conclusão intermediária\n",
    "Os lançamentos de jogos nos últimos 5 anos vem caíndo, as plataformas com maiores vendas foi X360 e tivemos várias plataformas listadas anteriormente sem vendas."
   ]
  },
  {
   "cell_type": "markdown",
   "metadata": {},
   "source": [
    "## Avaliação de dados mais recentes\n",
    "\n",
    "Podemos ver que os dados fornecidos têm informações desde 1980 até 2016. No entanto, ao considerar a construção de um modelo para 2017, seria apropriado descartar os dados mais antigos, pois não são relevantes para prever as tendências mais recentes. Portanto, pode ser apropriado restringir o conjunto de dados aos últimos 10 anos ou menos (por exemplo, 2007-2016) para construir um modelo para 2017. "
   ]
  },
  {
   "cell_type": "code",
   "execution_count": 33,
   "metadata": {},
   "outputs": [
    {
     "data": {
      "text/html": [
       "<div>\n",
       "<style scoped>\n",
       "    .dataframe tbody tr th:only-of-type {\n",
       "        vertical-align: middle;\n",
       "    }\n",
       "\n",
       "    .dataframe tbody tr th {\n",
       "        vertical-align: top;\n",
       "    }\n",
       "\n",
       "    .dataframe thead th {\n",
       "        text-align: right;\n",
       "    }\n",
       "</style>\n",
       "<table border=\"1\" class=\"dataframe\">\n",
       "  <thead>\n",
       "    <tr style=\"text-align: right;\">\n",
       "      <th></th>\n",
       "      <th>name</th>\n",
       "      <th>platform</th>\n",
       "      <th>year_of_release</th>\n",
       "      <th>genre</th>\n",
       "      <th>na_sales</th>\n",
       "      <th>eu_sales</th>\n",
       "      <th>jp_sales</th>\n",
       "      <th>other_sales</th>\n",
       "      <th>critic_score</th>\n",
       "      <th>user_score</th>\n",
       "      <th>rating</th>\n",
       "      <th>total_sales</th>\n",
       "    </tr>\n",
       "  </thead>\n",
       "  <tbody>\n",
       "    <tr>\n",
       "      <th>0</th>\n",
       "      <td>Wii Sports</td>\n",
       "      <td>Wii</td>\n",
       "      <td>2006</td>\n",
       "      <td>Sports</td>\n",
       "      <td>41.36</td>\n",
       "      <td>28.96</td>\n",
       "      <td>3.77</td>\n",
       "      <td>8.45</td>\n",
       "      <td>76.0</td>\n",
       "      <td>8</td>\n",
       "      <td>E</td>\n",
       "      <td>82.54</td>\n",
       "    </tr>\n",
       "    <tr>\n",
       "      <th>1</th>\n",
       "      <td>Super Mario Bros.</td>\n",
       "      <td>NES</td>\n",
       "      <td>1985</td>\n",
       "      <td>Platform</td>\n",
       "      <td>29.08</td>\n",
       "      <td>3.58</td>\n",
       "      <td>6.81</td>\n",
       "      <td>0.77</td>\n",
       "      <td>0.0</td>\n",
       "      <td>0.0</td>\n",
       "      <td>E</td>\n",
       "      <td>40.24</td>\n",
       "    </tr>\n",
       "    <tr>\n",
       "      <th>2</th>\n",
       "      <td>Mario Kart Wii</td>\n",
       "      <td>Wii</td>\n",
       "      <td>2008</td>\n",
       "      <td>Racing</td>\n",
       "      <td>15.68</td>\n",
       "      <td>12.76</td>\n",
       "      <td>3.79</td>\n",
       "      <td>3.29</td>\n",
       "      <td>82.0</td>\n",
       "      <td>8.3</td>\n",
       "      <td>E</td>\n",
       "      <td>35.52</td>\n",
       "    </tr>\n",
       "    <tr>\n",
       "      <th>3</th>\n",
       "      <td>Wii Sports Resort</td>\n",
       "      <td>Wii</td>\n",
       "      <td>2009</td>\n",
       "      <td>Sports</td>\n",
       "      <td>15.61</td>\n",
       "      <td>10.93</td>\n",
       "      <td>3.28</td>\n",
       "      <td>2.95</td>\n",
       "      <td>80.0</td>\n",
       "      <td>8</td>\n",
       "      <td>E</td>\n",
       "      <td>32.77</td>\n",
       "    </tr>\n",
       "    <tr>\n",
       "      <th>4</th>\n",
       "      <td>Pokemon Red/Pokemon Blue</td>\n",
       "      <td>GB</td>\n",
       "      <td>1996</td>\n",
       "      <td>Role-Playing</td>\n",
       "      <td>11.27</td>\n",
       "      <td>8.89</td>\n",
       "      <td>10.22</td>\n",
       "      <td>1.00</td>\n",
       "      <td>0.0</td>\n",
       "      <td>0.0</td>\n",
       "      <td>E</td>\n",
       "      <td>31.38</td>\n",
       "    </tr>\n",
       "    <tr>\n",
       "      <th>...</th>\n",
       "      <td>...</td>\n",
       "      <td>...</td>\n",
       "      <td>...</td>\n",
       "      <td>...</td>\n",
       "      <td>...</td>\n",
       "      <td>...</td>\n",
       "      <td>...</td>\n",
       "      <td>...</td>\n",
       "      <td>...</td>\n",
       "      <td>...</td>\n",
       "      <td>...</td>\n",
       "      <td>...</td>\n",
       "    </tr>\n",
       "    <tr>\n",
       "      <th>16710</th>\n",
       "      <td>Samurai Warriors: Sanada Maru</td>\n",
       "      <td>PS3</td>\n",
       "      <td>2016</td>\n",
       "      <td>Action</td>\n",
       "      <td>0.00</td>\n",
       "      <td>0.00</td>\n",
       "      <td>0.01</td>\n",
       "      <td>0.00</td>\n",
       "      <td>0.0</td>\n",
       "      <td>0.0</td>\n",
       "      <td>E</td>\n",
       "      <td>0.01</td>\n",
       "    </tr>\n",
       "    <tr>\n",
       "      <th>16711</th>\n",
       "      <td>LMA Manager 2007</td>\n",
       "      <td>X360</td>\n",
       "      <td>2006</td>\n",
       "      <td>Sports</td>\n",
       "      <td>0.00</td>\n",
       "      <td>0.01</td>\n",
       "      <td>0.00</td>\n",
       "      <td>0.00</td>\n",
       "      <td>0.0</td>\n",
       "      <td>0.0</td>\n",
       "      <td>E</td>\n",
       "      <td>0.01</td>\n",
       "    </tr>\n",
       "    <tr>\n",
       "      <th>16712</th>\n",
       "      <td>Haitaka no Psychedelica</td>\n",
       "      <td>PSV</td>\n",
       "      <td>2016</td>\n",
       "      <td>Adventure</td>\n",
       "      <td>0.00</td>\n",
       "      <td>0.00</td>\n",
       "      <td>0.01</td>\n",
       "      <td>0.00</td>\n",
       "      <td>0.0</td>\n",
       "      <td>0.0</td>\n",
       "      <td>E</td>\n",
       "      <td>0.01</td>\n",
       "    </tr>\n",
       "    <tr>\n",
       "      <th>16713</th>\n",
       "      <td>Spirits &amp; Spells</td>\n",
       "      <td>GBA</td>\n",
       "      <td>2003</td>\n",
       "      <td>Platform</td>\n",
       "      <td>0.01</td>\n",
       "      <td>0.00</td>\n",
       "      <td>0.00</td>\n",
       "      <td>0.00</td>\n",
       "      <td>0.0</td>\n",
       "      <td>0.0</td>\n",
       "      <td>E</td>\n",
       "      <td>0.01</td>\n",
       "    </tr>\n",
       "    <tr>\n",
       "      <th>16714</th>\n",
       "      <td>Winning Post 8 2016</td>\n",
       "      <td>PSV</td>\n",
       "      <td>2016</td>\n",
       "      <td>Simulation</td>\n",
       "      <td>0.00</td>\n",
       "      <td>0.00</td>\n",
       "      <td>0.01</td>\n",
       "      <td>0.00</td>\n",
       "      <td>0.0</td>\n",
       "      <td>0.0</td>\n",
       "      <td>E</td>\n",
       "      <td>0.01</td>\n",
       "    </tr>\n",
       "  </tbody>\n",
       "</table>\n",
       "<p>16567 rows × 12 columns</p>\n",
       "</div>"
      ],
      "text/plain": [
       "                                name platform year_of_release         genre  \\\n",
       "0                         Wii Sports      Wii            2006        Sports   \n",
       "1                  Super Mario Bros.      NES            1985      Platform   \n",
       "2                     Mario Kart Wii      Wii            2008        Racing   \n",
       "3                  Wii Sports Resort      Wii            2009        Sports   \n",
       "4           Pokemon Red/Pokemon Blue       GB            1996  Role-Playing   \n",
       "...                              ...      ...             ...           ...   \n",
       "16710  Samurai Warriors: Sanada Maru      PS3            2016        Action   \n",
       "16711               LMA Manager 2007     X360            2006        Sports   \n",
       "16712        Haitaka no Psychedelica      PSV            2016     Adventure   \n",
       "16713               Spirits & Spells      GBA            2003      Platform   \n",
       "16714            Winning Post 8 2016      PSV            2016    Simulation   \n",
       "\n",
       "       na_sales  eu_sales  jp_sales  other_sales  critic_score user_score  \\\n",
       "0         41.36     28.96      3.77         8.45          76.0          8   \n",
       "1         29.08      3.58      6.81         0.77           0.0        0.0   \n",
       "2         15.68     12.76      3.79         3.29          82.0        8.3   \n",
       "3         15.61     10.93      3.28         2.95          80.0          8   \n",
       "4         11.27      8.89     10.22         1.00           0.0        0.0   \n",
       "...         ...       ...       ...          ...           ...        ...   \n",
       "16710      0.00      0.00      0.01         0.00           0.0        0.0   \n",
       "16711      0.00      0.01      0.00         0.00           0.0        0.0   \n",
       "16712      0.00      0.00      0.01         0.00           0.0        0.0   \n",
       "16713      0.01      0.00      0.00         0.00           0.0        0.0   \n",
       "16714      0.00      0.00      0.01         0.00           0.0        0.0   \n",
       "\n",
       "      rating  total_sales  \n",
       "0          E        82.54  \n",
       "1          E        40.24  \n",
       "2          E        35.52  \n",
       "3          E        32.77  \n",
       "4          E        31.38  \n",
       "...      ...          ...  \n",
       "16710      E         0.01  \n",
       "16711      E         0.01  \n",
       "16712      E         0.01  \n",
       "16713      E         0.01  \n",
       "16714      E         0.01  \n",
       "\n",
       "[16567 rows x 12 columns]"
      ]
     },
     "execution_count": 33,
     "metadata": {},
     "output_type": "execute_result"
    }
   ],
   "source": [
    "df"
   ]
  },
  {
   "cell_type": "code",
   "execution_count": 34,
   "metadata": {},
   "outputs": [],
   "source": [
    "#ajustando o erro do tipo de dados por coluna.\n",
    "df['user_score'] = df['user_score'].replace('tbd', np.nan).astype(float)"
   ]
  },
  {
   "cell_type": "code",
   "execution_count": 35,
   "metadata": {},
   "outputs": [],
   "source": [
    "df['year_of_release'] = df['year_of_release'].replace('tbd', np.nan).astype(int)"
   ]
  },
  {
   "cell_type": "code",
   "execution_count": 36,
   "metadata": {},
   "outputs": [],
   "source": [
    "#restringindo o conjunto de dados aos últimos 10 anos\n",
    "df_rest = df[df['year_of_release'] >= 2007]"
   ]
  },
  {
   "cell_type": "code",
   "execution_count": 37,
   "metadata": {},
   "outputs": [],
   "source": [
    "# Agrupar por plataforma e calcular as vendas globais\n",
    "sales_by_platform = df_rest.groupby('platform')['total_sales'].sum().reset_index()"
   ]
  },
  {
   "cell_type": "code",
   "execution_count": 38,
   "metadata": {},
   "outputs": [],
   "source": [
    "# Ordenar em ordem decrescente\n",
    "sales_by_platform = sales_by_platform.sort_values(by='total_sales', ascending=False)"
   ]
  },
  {
   "cell_type": "code",
   "execution_count": 39,
   "metadata": {},
   "outputs": [
    {
     "data": {
      "text/html": [
       "<div>\n",
       "<style scoped>\n",
       "    .dataframe tbody tr th:only-of-type {\n",
       "        vertical-align: middle;\n",
       "    }\n",
       "\n",
       "    .dataframe tbody tr th {\n",
       "        vertical-align: top;\n",
       "    }\n",
       "\n",
       "    .dataframe thead th {\n",
       "        text-align: right;\n",
       "    }\n",
       "</style>\n",
       "<table border=\"1\" class=\"dataframe\">\n",
       "  <thead>\n",
       "    <tr style=\"text-align: right;\">\n",
       "      <th></th>\n",
       "      <th>platform</th>\n",
       "      <th>total_sales</th>\n",
       "    </tr>\n",
       "  </thead>\n",
       "  <tbody>\n",
       "    <tr>\n",
       "      <th>7</th>\n",
       "      <td>PS3</td>\n",
       "      <td>913.56</td>\n",
       "    </tr>\n",
       "    <tr>\n",
       "      <th>13</th>\n",
       "      <td>X360</td>\n",
       "      <td>905.60</td>\n",
       "    </tr>\n",
       "    <tr>\n",
       "      <th>11</th>\n",
       "      <td>Wii</td>\n",
       "      <td>763.12</td>\n",
       "    </tr>\n",
       "    <tr>\n",
       "      <th>2</th>\n",
       "      <td>DS</td>\n",
       "      <td>537.04</td>\n",
       "    </tr>\n",
       "    <tr>\n",
       "      <th>8</th>\n",
       "      <td>PS4</td>\n",
       "      <td>314.14</td>\n",
       "    </tr>\n",
       "    <tr>\n",
       "      <th>0</th>\n",
       "      <td>3DS</td>\n",
       "      <td>258.53</td>\n",
       "    </tr>\n",
       "    <tr>\n",
       "      <th>9</th>\n",
       "      <td>PSP</td>\n",
       "      <td>186.39</td>\n",
       "    </tr>\n",
       "    <tr>\n",
       "      <th>5</th>\n",
       "      <td>PC</td>\n",
       "      <td>163.61</td>\n",
       "    </tr>\n",
       "    <tr>\n",
       "      <th>6</th>\n",
       "      <td>PS2</td>\n",
       "      <td>163.44</td>\n",
       "    </tr>\n",
       "    <tr>\n",
       "      <th>15</th>\n",
       "      <td>XOne</td>\n",
       "      <td>159.32</td>\n",
       "    </tr>\n",
       "  </tbody>\n",
       "</table>\n",
       "</div>"
      ],
      "text/plain": [
       "   platform  total_sales\n",
       "7       PS3       913.56\n",
       "13     X360       905.60\n",
       "11      Wii       763.12\n",
       "2        DS       537.04\n",
       "8       PS4       314.14\n",
       "0       3DS       258.53\n",
       "9       PSP       186.39\n",
       "5        PC       163.61\n",
       "6       PS2       163.44\n",
       "15     XOne       159.32"
      ]
     },
     "execution_count": 39,
     "metadata": {},
     "output_type": "execute_result"
    }
   ],
   "source": [
    "# Mostrar as 10 plataformas com as maiores vendas globais\n",
    "top_platforms = sales_by_platform.head(10)\n",
    "top_platforms"
   ]
  },
  {
   "cell_type": "code",
   "execution_count": 40,
   "metadata": {},
   "outputs": [],
   "source": [
    "# Selecionar as plataformas para o gráfico\n",
    "selected_platforms = ['PS2', 'X360', 'PS3', 'Wii', 'DS', 'PS', 'GBA', 'PSP', 'PS4', 'PC']"
   ]
  },
  {
   "cell_type": "code",
   "execution_count": 41,
   "metadata": {},
   "outputs": [],
   "source": [
    "# Filtrar o dataframe para as plataformas selecionadas\n",
    "selected_df = df_rest[df_rest['platform'].isin(selected_platforms)]"
   ]
  },
  {
   "cell_type": "code",
   "execution_count": 42,
   "metadata": {},
   "outputs": [
    {
     "data": {
      "image/png": "[encoded data removed]",
      "text/plain": [
       "<Figure size 1080x504 with 1 Axes>"
      ]
     },
     "metadata": {
      "needs_background": "light"
     },
     "output_type": "display_data"
    }
   ],
   "source": [
    "# Criar um gráfico de barras mostrando as vendas globais para cada plataforma ao longo do tempo\n",
    "platform_sales = selected_df.pivot_table(index='year_of_release', columns='platform', values='total_sales', aggfunc='sum')\n",
    "platform_sales.plot(kind='bar', stacked=False, figsize=(15,7))\n",
    "\n",
    "# Configurar o gráfico\n",
    "plt.title('Vendas Globais por Plataforma')\n",
    "plt.xlabel('Ano de Lançamento')\n",
    "plt.ylabel('Vendas Globais (em milhões)')\n",
    "plt.show()"
   ]
  },
  {
   "cell_type": "markdown",
   "metadata": {},
   "source": [
    "### Conclusão intermediária\n",
    "Através da visualização do gráico que até 2013 , entre altos e baixos, a plataforma mais vendida foi o PS3, após 2013 o PS4 se tornou a plataforma mais vendida."
   ]
  },
  {
   "cell_type": "markdown",
   "metadata": {},
   "source": [
    "### Criação de gráfico de caixa"
   ]
  },
  {
   "cell_type": "code",
   "execution_count": 43,
   "metadata": {},
   "outputs": [],
   "source": [
    "# selecionar apenas as colunas de interesse\n",
    "cols = ['platform', 'total_sales']"
   ]
  },
  {
   "cell_type": "code",
   "execution_count": 44,
   "metadata": {},
   "outputs": [],
   "source": [
    "# agrupar as vendas totais por plataforma\n",
    "grouped = df_rest[cols].groupby('platform')"
   ]
  },
  {
   "cell_type": "code",
   "execution_count": 45,
   "metadata": {},
   "outputs": [
    {
     "data": {
      "text/plain": [
       "<Figure size 864x576 with 0 Axes>"
      ]
     },
     "metadata": {},
     "output_type": "display_data"
    },
    {
     "data": {
      "image/png": "[encoded data removed]",
      "text/plain": [
       "<Figure size 432x288 with 16 Axes>"
      ]
     },
     "metadata": {
      "needs_background": "light"
     },
     "output_type": "display_data"
    }
   ],
   "source": [
    "# criar o diagrama de caixa\n",
    "plt.figure(figsize=(12,8))\n",
    "grouped.boxplot()\n",
    "plt.title('Vendas globais por plataforma')\n",
    "plt.ylabel('Vendas (milhões)')\n",
    "plt.xticks(rotation=45)\n",
    "plt.show()"
   ]
  },
  {
   "cell_type": "code",
   "execution_count": 46,
   "metadata": {},
   "outputs": [
    {
     "data": {
      "text/plain": [
       "(0.0, 3.0)"
      ]
     },
     "execution_count": 46,
     "metadata": {},
     "output_type": "execute_result"
    },
    {
     "data": {
      "image/png": "[encoded data removed]",
      "text/plain": [
       "<Figure size 1080x720 with 1 Axes>"
      ]
     },
     "metadata": {
      "needs_background": "light"
     },
     "output_type": "display_data"
    }
   ],
   "source": [
    "import seaborn as sns\n",
    "plt.figure(figsize=(15,10))\n",
    "sns.boxplot(x='platform', y='total_sales', data=df_rest)\n",
    "plt.ylim(0,3)"
   ]
  },
  {
   "cell_type": "code",
   "execution_count": 47,
   "metadata": {},
   "outputs": [
    {
     "data": {
      "text/plain": [
       "<AxesSubplot:title={'center':'total_sales'}, xlabel='platform'>"
      ]
     },
     "execution_count": 47,
     "metadata": {},
     "output_type": "execute_result"
    },
    {
     "data": {
      "image/png": "[encoded data removed]",
      "text/plain": [
       "<Figure size 1440x720 with 1 Axes>"
      ]
     },
     "metadata": {
      "needs_background": "light"
     },
     "output_type": "display_data"
    }
   ],
   "source": [
    "#Criação de diagrama de caixa para todas as plataformas.\n",
    "df_rest.boxplot(column='total_sales', by='platform', figsize=(20, 10), medianprops={'linewidth': 2})"
   ]
  },
  {
   "cell_type": "code",
   "execution_count": 48,
   "metadata": {},
   "outputs": [],
   "source": [
    "#Ciração de gráfico de dispersão por classificação das plataformas pelas vendas\n",
    "ps4_sales = df_rest.loc[df['platform'] == 'PS4', ['platform', 'user_score', 'critic_score', 'total_sales']]"
   ]
  },
  {
   "cell_type": "code",
   "execution_count": 49,
   "metadata": {},
   "outputs": [
    {
     "data": {
      "image/png": "[encoded data removed]",
      "text/plain": [
       "<Figure size 432x288 with 1 Axes>"
      ]
     },
     "metadata": {
      "needs_background": "light"
     },
     "output_type": "display_data"
    }
   ],
   "source": [
    "plt.scatter(ps4_sales['user_score'], ps4_sales['total_sales'], label='user score')\n",
    "plt.scatter(ps4_sales['critic_score'], ps4_sales['total_sales'], label='critic score')\n",
    "plt.xlabel('Score')\n",
    "plt.ylabel('Global Sales')\n",
    "plt.legend()\n",
    "plt.show()"
   ]
  },
  {
   "cell_type": "code",
   "execution_count": 50,
   "metadata": {},
   "outputs": [
    {
     "data": {
      "text/html": [
       "<div>\n",
       "<style scoped>\n",
       "    .dataframe tbody tr th:only-of-type {\n",
       "        vertical-align: middle;\n",
       "    }\n",
       "\n",
       "    .dataframe tbody tr th {\n",
       "        vertical-align: top;\n",
       "    }\n",
       "\n",
       "    .dataframe thead th {\n",
       "        text-align: right;\n",
       "    }\n",
       "</style>\n",
       "<table border=\"1\" class=\"dataframe\">\n",
       "  <thead>\n",
       "    <tr style=\"text-align: right;\">\n",
       "      <th></th>\n",
       "      <th>user_score</th>\n",
       "      <th>critic_score</th>\n",
       "      <th>total_sales</th>\n",
       "    </tr>\n",
       "  </thead>\n",
       "  <tbody>\n",
       "    <tr>\n",
       "      <th>user_score</th>\n",
       "      <td>1.000000</td>\n",
       "      <td>0.906649</td>\n",
       "      <td>0.092428</td>\n",
       "    </tr>\n",
       "    <tr>\n",
       "      <th>critic_score</th>\n",
       "      <td>0.906649</td>\n",
       "      <td>1.000000</td>\n",
       "      <td>0.221822</td>\n",
       "    </tr>\n",
       "    <tr>\n",
       "      <th>total_sales</th>\n",
       "      <td>0.092428</td>\n",
       "      <td>0.221822</td>\n",
       "      <td>1.000000</td>\n",
       "    </tr>\n",
       "  </tbody>\n",
       "</table>\n",
       "</div>"
      ],
      "text/plain": [
       "              user_score  critic_score  total_sales\n",
       "user_score      1.000000      0.906649     0.092428\n",
       "critic_score    0.906649      1.000000     0.221822\n",
       "total_sales     0.092428      0.221822     1.000000"
      ]
     },
     "execution_count": 50,
     "metadata": {},
     "output_type": "execute_result"
    }
   ],
   "source": [
    "# Avaliando a correlaçõ entre as colunas\n",
    "ps4_sales[['user_score', 'critic_score', 'total_sales']].corr()"
   ]
  },
  {
   "cell_type": "markdown",
   "metadata": {},
   "source": [
    "### Conclusão intermediária\n",
    "Temos uma média de vendas na América do Norte superior aos demais continentes. Há uma diferença muito grande nas médias de vendas do X360 para os demais nos últimos 10 anos, com a tabela de correlação conseguimos observar que há uma correlação diretamente proporcional ente `critic_score` e `user_score`."
   ]
  },
  {
   "cell_type": "markdown",
   "metadata": {},
   "source": [
    "## Avaliação de vendas por região"
   ]
  },
  {
   "cell_type": "code",
   "execution_count": 51,
   "metadata": {},
   "outputs": [],
   "source": [
    "#Avaliando as vendas por região\n",
    "region_platform_sales = df[['na_sales', 'eu_sales', 'jp_sales', 'platform']].copy()"
   ]
  },
  {
   "cell_type": "code",
   "execution_count": 52,
   "metadata": {},
   "outputs": [],
   "source": [
    "region_platform_sales = region_platform_sales.groupby(['platform']).agg({\n",
    "    'na_sales': 'sum',\n",
    "    'eu_sales': 'sum',\n",
    "    'jp_sales': 'sum'\n",
    "}).reset_index()"
   ]
  },
  {
   "cell_type": "code",
   "execution_count": 53,
   "metadata": {},
   "outputs": [],
   "source": [
    "region_platform_sales['na_share'] = region_platform_sales['na_sales'] / region_platform_sales['na_sales'].sum()\n",
    "region_platform_sales['eu_share'] = region_platform_sales['eu_sales'] / region_platform_sales['eu_sales'].sum()\n",
    "region_platform_sales['jp_share'] = region_platform_sales['jp_sales'] / region_platform_sales['jp_sales'].sum()"
   ]
  },
  {
   "cell_type": "code",
   "execution_count": 54,
   "metadata": {},
   "outputs": [],
   "source": [
    "#top 5 vendas\n",
    "top_5_na = region_platform_sales.sort_values('na_share', ascending=False).head(5)\n",
    "top_5_eu = region_platform_sales.sort_values('eu_share', ascending=False).head(5)\n",
    "top_5_jp = region_platform_sales.sort_values('jp_share', ascending=False).head(5)"
   ]
  },
  {
   "cell_type": "code",
   "execution_count": 55,
   "metadata": {},
   "outputs": [
    {
     "data": {
      "text/html": [
       "<div>\n",
       "<style scoped>\n",
       "    .dataframe tbody tr th:only-of-type {\n",
       "        vertical-align: middle;\n",
       "    }\n",
       "\n",
       "    .dataframe tbody tr th {\n",
       "        vertical-align: top;\n",
       "    }\n",
       "\n",
       "    .dataframe thead th {\n",
       "        text-align: right;\n",
       "    }\n",
       "</style>\n",
       "<table border=\"1\" class=\"dataframe\">\n",
       "  <thead>\n",
       "    <tr style=\"text-align: right;\">\n",
       "      <th></th>\n",
       "      <th>platform</th>\n",
       "      <th>na_sales</th>\n",
       "      <th>eu_sales</th>\n",
       "      <th>jp_sales</th>\n",
       "      <th>na_share</th>\n",
       "      <th>eu_share</th>\n",
       "      <th>jp_share</th>\n",
       "    </tr>\n",
       "  </thead>\n",
       "  <tbody>\n",
       "    <tr>\n",
       "      <th>28</th>\n",
       "      <td>X360</td>\n",
       "      <td>599.15</td>\n",
       "      <td>269.79</td>\n",
       "      <td>12.33</td>\n",
       "      <td>0.137003</td>\n",
       "      <td>0.111682</td>\n",
       "      <td>0.009539</td>\n",
       "    </tr>\n",
       "    <tr>\n",
       "      <th>16</th>\n",
       "      <td>PS2</td>\n",
       "      <td>580.09</td>\n",
       "      <td>337.05</td>\n",
       "      <td>137.74</td>\n",
       "      <td>0.132644</td>\n",
       "      <td>0.139525</td>\n",
       "      <td>0.106564</td>\n",
       "    </tr>\n",
       "    <tr>\n",
       "      <th>26</th>\n",
       "      <td>Wii</td>\n",
       "      <td>494.01</td>\n",
       "      <td>261.48</td>\n",
       "      <td>69.05</td>\n",
       "      <td>0.112961</td>\n",
       "      <td>0.108242</td>\n",
       "      <td>0.053421</td>\n",
       "    </tr>\n",
       "    <tr>\n",
       "      <th>17</th>\n",
       "      <td>PS3</td>\n",
       "      <td>391.60</td>\n",
       "      <td>328.97</td>\n",
       "      <td>79.52</td>\n",
       "      <td>0.089544</td>\n",
       "      <td>0.136180</td>\n",
       "      <td>0.061521</td>\n",
       "    </tr>\n",
       "    <tr>\n",
       "      <th>4</th>\n",
       "      <td>DS</td>\n",
       "      <td>381.38</td>\n",
       "      <td>188.72</td>\n",
       "      <td>175.02</td>\n",
       "      <td>0.087207</td>\n",
       "      <td>0.078122</td>\n",
       "      <td>0.135406</td>\n",
       "    </tr>\n",
       "  </tbody>\n",
       "</table>\n",
       "</div>"
      ],
      "text/plain": [
       "   platform  na_sales  eu_sales  jp_sales  na_share  eu_share  jp_share\n",
       "28     X360    599.15    269.79     12.33  0.137003  0.111682  0.009539\n",
       "16      PS2    580.09    337.05    137.74  0.132644  0.139525  0.106564\n",
       "26      Wii    494.01    261.48     69.05  0.112961  0.108242  0.053421\n",
       "17      PS3    391.60    328.97     79.52  0.089544  0.136180  0.061521\n",
       "4        DS    381.38    188.72    175.02  0.087207  0.078122  0.135406"
      ]
     },
     "execution_count": 55,
     "metadata": {},
     "output_type": "execute_result"
    }
   ],
   "source": [
    "top_5_na"
   ]
  },
  {
   "cell_type": "code",
   "execution_count": 56,
   "metadata": {},
   "outputs": [
    {
     "data": {
      "text/html": [
       "<div>\n",
       "<style scoped>\n",
       "    .dataframe tbody tr th:only-of-type {\n",
       "        vertical-align: middle;\n",
       "    }\n",
       "\n",
       "    .dataframe tbody tr th {\n",
       "        vertical-align: top;\n",
       "    }\n",
       "\n",
       "    .dataframe thead th {\n",
       "        text-align: right;\n",
       "    }\n",
       "</style>\n",
       "<table border=\"1\" class=\"dataframe\">\n",
       "  <thead>\n",
       "    <tr style=\"text-align: right;\">\n",
       "      <th></th>\n",
       "      <th>platform</th>\n",
       "      <th>na_sales</th>\n",
       "      <th>eu_sales</th>\n",
       "      <th>jp_sales</th>\n",
       "      <th>na_share</th>\n",
       "      <th>eu_share</th>\n",
       "      <th>jp_share</th>\n",
       "    </tr>\n",
       "  </thead>\n",
       "  <tbody>\n",
       "    <tr>\n",
       "      <th>16</th>\n",
       "      <td>PS2</td>\n",
       "      <td>580.09</td>\n",
       "      <td>337.05</td>\n",
       "      <td>137.74</td>\n",
       "      <td>0.132644</td>\n",
       "      <td>0.139525</td>\n",
       "      <td>0.106564</td>\n",
       "    </tr>\n",
       "    <tr>\n",
       "      <th>17</th>\n",
       "      <td>PS3</td>\n",
       "      <td>391.60</td>\n",
       "      <td>328.97</td>\n",
       "      <td>79.52</td>\n",
       "      <td>0.089544</td>\n",
       "      <td>0.136180</td>\n",
       "      <td>0.061521</td>\n",
       "    </tr>\n",
       "    <tr>\n",
       "      <th>28</th>\n",
       "      <td>X360</td>\n",
       "      <td>599.15</td>\n",
       "      <td>269.79</td>\n",
       "      <td>12.33</td>\n",
       "      <td>0.137003</td>\n",
       "      <td>0.111682</td>\n",
       "      <td>0.009539</td>\n",
       "    </tr>\n",
       "    <tr>\n",
       "      <th>26</th>\n",
       "      <td>Wii</td>\n",
       "      <td>494.01</td>\n",
       "      <td>261.48</td>\n",
       "      <td>69.05</td>\n",
       "      <td>0.112961</td>\n",
       "      <td>0.108242</td>\n",
       "      <td>0.053421</td>\n",
       "    </tr>\n",
       "    <tr>\n",
       "      <th>15</th>\n",
       "      <td>PS</td>\n",
       "      <td>334.72</td>\n",
       "      <td>212.39</td>\n",
       "      <td>139.78</td>\n",
       "      <td>0.076538</td>\n",
       "      <td>0.087921</td>\n",
       "      <td>0.108142</td>\n",
       "    </tr>\n",
       "  </tbody>\n",
       "</table>\n",
       "</div>"
      ],
      "text/plain": [
       "   platform  na_sales  eu_sales  jp_sales  na_share  eu_share  jp_share\n",
       "16      PS2    580.09    337.05    137.74  0.132644  0.139525  0.106564\n",
       "17      PS3    391.60    328.97     79.52  0.089544  0.136180  0.061521\n",
       "28     X360    599.15    269.79     12.33  0.137003  0.111682  0.009539\n",
       "26      Wii    494.01    261.48     69.05  0.112961  0.108242  0.053421\n",
       "15       PS    334.72    212.39    139.78  0.076538  0.087921  0.108142"
      ]
     },
     "execution_count": 56,
     "metadata": {},
     "output_type": "execute_result"
    }
   ],
   "source": [
    "top_5_eu"
   ]
  },
  {
   "cell_type": "code",
   "execution_count": 57,
   "metadata": {},
   "outputs": [
    {
     "data": {
      "text/html": [
       "<div>\n",
       "<style scoped>\n",
       "    .dataframe tbody tr th:only-of-type {\n",
       "        vertical-align: middle;\n",
       "    }\n",
       "\n",
       "    .dataframe tbody tr th {\n",
       "        vertical-align: top;\n",
       "    }\n",
       "\n",
       "    .dataframe thead th {\n",
       "        text-align: right;\n",
       "    }\n",
       "</style>\n",
       "<table border=\"1\" class=\"dataframe\">\n",
       "  <thead>\n",
       "    <tr style=\"text-align: right;\">\n",
       "      <th></th>\n",
       "      <th>platform</th>\n",
       "      <th>na_sales</th>\n",
       "      <th>eu_sales</th>\n",
       "      <th>jp_sales</th>\n",
       "      <th>na_share</th>\n",
       "      <th>eu_share</th>\n",
       "      <th>jp_share</th>\n",
       "    </tr>\n",
       "  </thead>\n",
       "  <tbody>\n",
       "    <tr>\n",
       "      <th>4</th>\n",
       "      <td>DS</td>\n",
       "      <td>381.38</td>\n",
       "      <td>188.72</td>\n",
       "      <td>175.02</td>\n",
       "      <td>0.087207</td>\n",
       "      <td>0.078122</td>\n",
       "      <td>0.135406</td>\n",
       "    </tr>\n",
       "    <tr>\n",
       "      <th>15</th>\n",
       "      <td>PS</td>\n",
       "      <td>334.72</td>\n",
       "      <td>212.39</td>\n",
       "      <td>139.78</td>\n",
       "      <td>0.076538</td>\n",
       "      <td>0.087921</td>\n",
       "      <td>0.108142</td>\n",
       "    </tr>\n",
       "    <tr>\n",
       "      <th>16</th>\n",
       "      <td>PS2</td>\n",
       "      <td>580.09</td>\n",
       "      <td>337.05</td>\n",
       "      <td>137.74</td>\n",
       "      <td>0.132644</td>\n",
       "      <td>0.139525</td>\n",
       "      <td>0.106564</td>\n",
       "    </tr>\n",
       "    <tr>\n",
       "      <th>23</th>\n",
       "      <td>SNES</td>\n",
       "      <td>61.23</td>\n",
       "      <td>19.04</td>\n",
       "      <td>116.55</td>\n",
       "      <td>0.014001</td>\n",
       "      <td>0.007882</td>\n",
       "      <td>0.090170</td>\n",
       "    </tr>\n",
       "    <tr>\n",
       "      <th>2</th>\n",
       "      <td>3DS</td>\n",
       "      <td>83.11</td>\n",
       "      <td>61.46</td>\n",
       "      <td>100.64</td>\n",
       "      <td>0.019004</td>\n",
       "      <td>0.025442</td>\n",
       "      <td>0.077861</td>\n",
       "    </tr>\n",
       "  </tbody>\n",
       "</table>\n",
       "</div>"
      ],
      "text/plain": [
       "   platform  na_sales  eu_sales  jp_sales  na_share  eu_share  jp_share\n",
       "4        DS    381.38    188.72    175.02  0.087207  0.078122  0.135406\n",
       "15       PS    334.72    212.39    139.78  0.076538  0.087921  0.108142\n",
       "16      PS2    580.09    337.05    137.74  0.132644  0.139525  0.106564\n",
       "23     SNES     61.23     19.04    116.55  0.014001  0.007882  0.090170\n",
       "2       3DS     83.11     61.46    100.64  0.019004  0.025442  0.077861"
      ]
     },
     "execution_count": 57,
     "metadata": {},
     "output_type": "execute_result"
    }
   ],
   "source": [
    "top_5_jp"
   ]
  },
  {
   "cell_type": "markdown",
   "metadata": {},
   "source": [
    "### Conclusão intermediária\n",
    "Possuímos uma maior venda de X350 no continente norte americano, PS2 muito vendido na Europa e DS mais vendido no Japão."
   ]
  },
  {
   "cell_type": "markdown",
   "metadata": {},
   "source": [
    "## Classificação por vendas"
   ]
  },
  {
   "cell_type": "code",
   "execution_count": 58,
   "metadata": {},
   "outputs": [],
   "source": [
    "# Selecionando as colunas de interesse\n",
    "cols = ['na_sales', 'eu_sales', 'jp_sales', 'other_sales', 'rating']"
   ]
  },
  {
   "cell_type": "code",
   "execution_count": 59,
   "metadata": {},
   "outputs": [],
   "source": [
    "# Agrupando as vendas totais por classificação do ESRB e região\n",
    "grouped_ESRB = df.groupby(['rating'])[['na_sales', 'eu_sales', 'jp_sales', 'other_sales', 'total_sales']].sum()\n"
   ]
  },
  {
   "cell_type": "code",
   "execution_count": 60,
   "metadata": {},
   "outputs": [
    {
     "data": {
      "image/png": "[encoded data removed]",
      "text/plain": [
       "<Figure size 432x288 with 1 Axes>"
      ]
     },
     "metadata": {
      "needs_background": "light"
     },
     "output_type": "display_data"
    }
   ],
   "source": [
    "# Criando um gráfico de barras empilhadas para cada região\n",
    "# Configurando as legendas e títulos do gráfico\n",
    "# Exibindo o gráfico\n",
    "grouped_ESRB.plot(kind='bar', stacked=True)\n",
    "\n",
    "plt.title('Vendas por classificação do ESRB em cada região')\n",
    "plt.xlabel('Classificação do ESRB')\n",
    "plt.ylabel('Vendas totais')\n",
    "plt.legend(['América do Norte', 'Europa', 'Japão', 'Outras regiões'])\n",
    "\n",
    "\n",
    "plt.show()"
   ]
  },
  {
   "cell_type": "markdown",
   "metadata": {},
   "source": [
    "### Conclusão intermediária\n",
    "Através do gráfico fica nítido que uma maior quantidade de vendas dos profutos melhores ranqueados."
   ]
  },
  {
   "cell_type": "markdown",
   "metadata": {},
   "source": [
    "## Teste de hipóteses"
   ]
  },
  {
   "cell_type": "markdown",
   "metadata": {},
   "source": [
    "Serão realizados dois testes de hipóteses, o primeiro:\n",
    "* Com hipótese nula (H0): as classificações médias dos usuários das plataformas Xbox One e PC são as mesmas;\n",
    "* Com hipótese alternativa (H1): as classificações médias dos usuários das plataformas Xbox One e Pc são diferentes."
   ]
  },
  {
   "cell_type": "code",
   "execution_count": 61,
   "metadata": {},
   "outputs": [],
   "source": [
    "#importando a biblioteca\n",
    "from scipy.stats import ttest_ind"
   ]
  },
  {
   "cell_type": "code",
   "execution_count": 62,
   "metadata": {},
   "outputs": [],
   "source": [
    "# Separando as classificações dos usuários para as plataformas XOne e PC em duas amostras diferentes\n",
    "xone_ratings = df[df['platform'] == 'XOne']['user_score'].dropna()\n",
    "pc_ratings = df[df['platform'] == 'PC']['user_score'].dropna()"
   ]
  },
  {
   "cell_type": "code",
   "execution_count": 63,
   "metadata": {},
   "outputs": [],
   "source": [
    "# Calculando a estatística t e o valor-p\n",
    "t, p_value = ttest_ind(xone_ratings, pc_ratings, equal_var=False)"
   ]
  },
  {
   "cell_type": "code",
   "execution_count": 64,
   "metadata": {},
   "outputs": [
    {
     "name": "stdout",
     "output_type": "stream",
     "text": [
      "Valor-p:  0.02850825251652578\n"
     ]
    }
   ],
   "source": [
    "# Imprimindo o valor-p\n",
    "print(\"Valor-p: \", p_value)"
   ]
  },
  {
   "cell_type": "code",
   "execution_count": 65,
   "metadata": {},
   "outputs": [
    {
     "name": "stdout",
     "output_type": "stream",
     "text": [
      "Rejeitamos a hipótese nula\n"
     ]
    }
   ],
   "source": [
    "# Verificando se a hipótese nula pode ser rejeitada\n",
    "if p_value < 0.05:\n",
    "    print(\"Rejeitamos a hipótese nula\")\n",
    "else:\n",
    "    print(\"Não rejeitamos a hipótese nula\")"
   ]
  },
  {
   "cell_type": "markdown",
   "metadata": {},
   "source": [
    "No segunto teste de hipótese, temos:\n",
    "* Hipótese nula (H0): as classificações médias de usuários para os gêneros Action (ação) e Sports (esportes) são iguais;\n",
    "* Hipótese alternativa (H1): as Classificações médias de usuários para os gêneros Action (ação) e Sport (esporte) são diferentes."
   ]
  },
  {
   "cell_type": "code",
   "execution_count": 66,
   "metadata": {},
   "outputs": [],
   "source": [
    "# Criando dois grupos separados para Action e Sports\n",
    "action = df[df['genre'] == 'Action']['user_score']\n",
    "sports = df[df['genre'] == 'Sports']['user_score']"
   ]
  },
  {
   "cell_type": "code",
   "execution_count": 67,
   "metadata": {},
   "outputs": [],
   "source": [
    "# Realizando o teste t de duas amostras independentes\n",
    "t_statistic, p_value = ttest_ind(action, sports, equal_var=False)"
   ]
  },
  {
   "cell_type": "code",
   "execution_count": 68,
   "metadata": {},
   "outputs": [],
   "source": [
    "# Definindo o nível de significância\n",
    "alpha = 0.05"
   ]
  },
  {
   "cell_type": "code",
   "execution_count": 69,
   "metadata": {},
   "outputs": [
    {
     "name": "stdout",
     "output_type": "stream",
     "text": [
      "Não rejeitamos a hipótese nula. As médias das classificações dos usuários para os gêneros Action e Sports são iguais.\n"
     ]
    }
   ],
   "source": [
    "# Verificando o resultado do teste\n",
    "if p_value < alpha:\n",
    "    print(\"Rejeitamos a hipótese nula. As médias das classificações dos usuários para os gêneros Action e Sports são diferentes.\")\n",
    "else:\n",
    "    print(\"Não rejeitamos a hipótese nula. As médias das classificações dos usuários para os gêneros Action e Sports são iguais.\")\n"
   ]
  },
  {
   "cell_type": "markdown",
   "metadata": {},
   "source": [
    "## Conclusão Final\n",
    "Os dados recebidos estavam em tipos diferentes com valores ausentes, colunas com cabeçalhos em letras maiúsculas com minúsculas, os dados foram alterados para seus respectivos tipos, os cabeçalhos foram ordenados para letras minúsculas e os valores ausentes foram tratados seguindo a seguinte lógica:\n",
    "\n",
    "* A coluna `name` serviu para auxiliar no preenchimento das demais colunas com valores ausentes, entendendo que podemos ter valores que se repetem na coluna e podem aparecer em outra linha com valores ausentes;\n",
    "* Os valores de score ficou entendido, por mim, que não houve o preenchimento pois o usuário não relacionou uma nota e portanto a nota seria 0.0;\n",
    "* Os valores da coluna categórica `rating` possuía uma classificação, os valores foram substituídos pelo valor que mais se repete na coluna.\n",
    "* Ainda possuíam 2 linhas na coluna `name` e `genre`, 148 linhas na coluna `year_of_release` , foi tomado a decisão de excluí-los pois não comprometeria os dados, pois não representam mais que 10% do total dos meus dados.\n",
    "\n",
    "Os lançamentos dos jogos nos últimos 5 anos vem caindo, as maiores vendas se concentraram na América do Norte e as cinco plataformas mais vendidas, respectivamente, são: X360, PS2, Wii, PS3 e DS.\n",
    "\n",
    "Para a avaliação dos dados foram restringidos o conjunto de dados dos últimos 10 anos para se construir um modelo para 2017. Para realização essa avaliação, apareceu um erro ´TBD´ e as colunas `user_score` e `year_of_release` foram alterados para float e int respectivamente, logo após foram realizados as restrições e criado o gráfico, através do gráfico ficou evidêciado que a plataforma mais vendida, de 2007 a 2013, foi PS3 e após 2013 o PS4.\n",
    "\n",
    "Logo após, através dos gráficos de caixa, foi analisado que a média de vendas Norte americana foi superior ao dos demais locais e que as médias de vendas do X360 para os demais foi maior dentre os 10 anos, através da correlação ficou notado que há uma correlação diretamente proporcional entre `critic_score` e `user_score`. Logo após foram avaliadas as vendas por região e feito um top 5 em cada, os líderes de venda são:\n",
    "\n",
    "* `na_sales`: X360;\n",
    "* `eu_sales`: PS2;\n",
    "* `jp_sales`: DS.\n",
    "\n",
    "Em análise, foi feita o agrupamento de vendas por classificação e região e criado um gráfico, neste gráfico foi notado que temos maiores vendas dos produtos que temos uma melhor classificação, portanto, podemos dizer que a classificação e as vendas são diretamente proporcionais.\n",
    "\n",
    "No teste de hipótese foram criadas dois testes para avaliação dos usuários das plataformas Xbox One e PC, segundo o teste, as classificações médias dos usuários das plataformas Xbox One e PC são diferentes. No segundo teste, ficou constatado que as médias das classificações dos usuários para o gênero Action e Sports são iguais.\n",
    "\n"
   ]
  }
 ],
 "metadata": {
  "kernelspec": {
   "display_name": "Python 3 (ipykernel)",
   "language": "python",
   "name": "python3"
  },
  "language_info": {
   "codemirror_mode": {
    "name": "ipython",
    "version": 3
   },
   "file_extension": ".py",
   "mimetype": "text/x-python",
   "name": "python",
   "nbconvert_exporter": "python",
   "pygments_lexer": "ipython3",
   "version": "3.9.13"
  },
  "toc": {
   "base_numbering": 1,
   "nav_menu": {},
   "number_sections": true,
   "sideBar": true,
   "skip_h1_title": true,
   "title_cell": "Table of Contents",
   "title_sidebar": "Contents",
   "toc_cell": false,
   "toc_position": {},
   "toc_section_display": true,
   "toc_window_display": false
  }
 },
 "nbformat": 4,
 "nbformat_minor": 2
}
